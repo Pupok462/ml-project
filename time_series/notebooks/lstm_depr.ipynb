{
 "cells": [
  {
   "cell_type": "code",
   "execution_count": 1,
   "outputs": [],
   "source": [
    "import numpy as np\n",
    "from sklearn.preprocessing import StandardScaler\n",
    "import pandas as pd\n",
    "import torch\n",
    "import torch.nn as nn\n",
    "from torch import Tensor\n",
    "\n",
    "from src.data_transform import make_sequence_from_time_series, train_test_split\n",
    "\n",
    "from src.drawing import show_forecast_test_plot\n",
    "import matplotlib.pyplot as plt\n"
   ],
   "metadata": {
    "collapsed": false
   }
  },
  {
   "cell_type": "markdown",
   "source": [
    "Создадим свой лстм модуль"
   ],
   "metadata": {
    "collapsed": false
   }
  },
  {
   "cell_type": "code",
   "execution_count": null,
   "outputs": [],
   "source": [
    "def train_lstm(num_epochs, model, criterion, optimizer, x_train, y_train):\n",
    "    loss_list = []\n",
    "    for epoch in range(num_epochs):\n",
    "        for i in range(len(x_train)):\n",
    "            optimizer.zero_grad()\n",
    "            y_pred = model(x_train[i])\n",
    "            print(y_pred.shape)\n",
    "            print(y_train[i].shape)\n",
    "            loss = criterion(y_pred, y_train[i])\n",
    "            loss_list.append(loss.detach().cpu())\n",
    "            loss.backward()\n",
    "            optimizer.step()\n",
    "        # if (epoch+1) % 10 == 0:\n",
    "            # print(f'Epoch {epoch+1}, Loss: {loss.item():.4f}')\n",
    "    return loss_list"
   ],
   "metadata": {
    "collapsed": false
   }
  },
  {
   "cell_type": "code",
   "execution_count": null,
   "outputs": [],
   "source": [
    "def compute_distance(y_pred, y_test):\n",
    "    return np.absolute((y_pred - y_test)).sum()"
   ],
   "metadata": {
    "collapsed": false
   }
  },
  {
   "cell_type": "markdown",
   "source": [
    "обучим по простому"
   ],
   "metadata": {
    "collapsed": false
   }
  },
  {
   "cell_type": "code",
   "execution_count": null,
   "outputs": [],
   "source": [
    "from pytorch_forecasting.metrics.point import SMAPE\n",
    "df = pd.read_csv('train.csv')\n",
    "target = df[['target_value']]\n",
    "\n",
    "seq_len = 10\n",
    "x_train = torch.tensor(target.iloc[:350].values).float()\n",
    "x_test = torch.tensor(target.iloc[350:359].values).float()\n",
    "y_test = torch.tensor(target.iloc[359:].values).float()\n",
    "\n",
    "x_train, y_train = train_test_split(x_train, seq_len)"
   ],
   "metadata": {
    "collapsed": false
   }
  },
  {
   "cell_type": "code",
   "execution_count": null,
   "outputs": [],
   "source": [
    "input_dim = 1\n",
    "hidden_dim = 64\n",
    "output_dim = 7\n",
    "\n",
    "\n",
    "model = OwnLSTM(input_dim, hidden_dim, output_dim)\n",
    "criterion = SMAPE()\n",
    "optimizer = torch.optim.Adam(model.parameters(), lr=0.001)\n",
    "num_epochs = 1\n",
    "print(model)"
   ],
   "metadata": {
    "collapsed": false
   }
  },
  {
   "cell_type": "code",
   "execution_count": null,
   "outputs": [],
   "source": [
    "loss_list = train_lstm(num_epochs, model, criterion, optimizer, x_train, y_train)"
   ],
   "metadata": {
    "collapsed": false
   }
  },
  {
   "cell_type": "code",
   "execution_count": null,
   "outputs": [],
   "source": [
    "# print(loss_list)\n",
    "# from src.drawing import show_loss_after_train\n",
    "# y_pred = model(x_test).detach().numpy()\n",
    "# show_loss_after_train(loss_list)"
   ],
   "metadata": {
    "collapsed": false
   }
  },
  {
   "cell_type": "code",
   "execution_count": null,
   "outputs": [],
   "source": [
    "# df = pd.read_csv('train.csv')\n",
    "# time = df.Date\n",
    "# train = df.target_value.iloc[:359]\n",
    "# test = df.target_value.iloc[359:]\n",
    "# pred = y_pred\n",
    "# print(compute_distance(pred,test))\n",
    "# show_forecast_test_plot(time, train, pred, test)"
   ],
   "metadata": {
    "collapsed": false
   }
  },
  {
   "cell_type": "markdown",
   "source": [
    "теперь добавим нормировку (Standart Scaler)"
   ],
   "metadata": {
    "collapsed": false
   }
  },
  {
   "cell_type": "code",
   "execution_count": null,
   "outputs": [],
   "source": [
    "# df = pd.read_csv('train.csv')\n",
    "# target = df[['target_value']]\n",
    "#\n",
    "# seq_len = 7\n",
    "# x_train = torch.tensor(target.iloc[:350].values).float()\n",
    "# x_test = torch.tensor(target.iloc[350:359].values).float()\n",
    "# y_test = torch.tensor(target.iloc[359:].values).float()\n",
    "#\n",
    "# scaler = StandardScaler()\n",
    "# x_train = torch.tensor(scaler.fit_transform(x_train)).float()\n",
    "# x_test = torch.tensor(scaler.transform(x_test)).float()\n",
    "# y_test = torch.tensor(scaler.transform(y_test)).float()\n",
    "#\n",
    "#\n",
    "# x_train, y_train = train_test_split(x_train, seq_len)\n"
   ],
   "metadata": {
    "collapsed": false
   }
  },
  {
   "cell_type": "code",
   "execution_count": null,
   "outputs": [],
   "source": [
    "# input_dim = 1\n",
    "# hidden_dim = 64\n",
    "# output_dim = 7\n",
    "#\n",
    "#\n",
    "# model = OwnLSTM(input_dim, hidden_dim, output_dim)\n",
    "# criterion = nn.MSELoss()\n",
    "# optimizer = torch.optim.Adam(model.parameters(), lr=0.001)\n",
    "# num_epochs = 1000\n",
    "# print(model)"
   ],
   "metadata": {
    "collapsed": false
   }
  },
  {
   "cell_type": "code",
   "execution_count": null,
   "outputs": [],
   "source": [
    "# loss_list = train_lstm(num_epochs, model, criterion, optimizer, x_train, y_train)"
   ],
   "metadata": {
    "collapsed": false
   }
  },
  {
   "cell_type": "code",
   "execution_count": null,
   "outputs": [],
   "source": [
    "y_pred = model(x_test).detach().numpy()\n",
    "y_pred = scaler.inverse_transform(model(x_test).detach().numpy().reshape(1,-1))"
   ],
   "metadata": {
    "collapsed": false
   }
  },
  {
   "cell_type": "code",
   "execution_count": null,
   "outputs": [],
   "source": [
    "# plt.figure(figsize=(15, 9))\n",
    "# plt.plot(loss_list)\n",
    "# plt.xlabel(\"epochs\")\n",
    "# plt.ylabel(\"loss\")\n",
    "# plt.show()"
   ],
   "metadata": {
    "collapsed": false
   }
  },
  {
   "cell_type": "code",
   "execution_count": 2,
   "outputs": [],
   "source": [
    "# df = pd.read_csv('train.csv')\n",
    "# time = df.Date\n",
    "# train = df.target_value.iloc[:359]\n",
    "# test = df.target_value.iloc[359:]\n",
    "# pred = y_pred[0]\n",
    "# print(compute_distance(pred, test))\n",
    "# show_forecast_test_plot(time, train, pred, test)"
   ],
   "metadata": {
    "collapsed": false
   }
  },
  {
   "cell_type": "code",
   "execution_count": 3,
   "outputs": [],
   "source": [
    "import pandas as pd\n",
    "import torch\n",
    "import torch.nn as nn"
   ],
   "metadata": {
    "collapsed": false
   }
  },
  {
   "cell_type": "markdown",
   "source": [
    "## Обработка временного ряда"
   ],
   "metadata": {
    "collapsed": false
   }
  },
  {
   "cell_type": "code",
   "execution_count": 4,
   "outputs": [],
   "source": [
    "# Достаем ряд\n",
    "df = pd.read_csv('train.csv')\n",
    "target = df.target_value"
   ],
   "metadata": {
    "collapsed": false
   }
  },
  {
   "cell_type": "code",
   "execution_count": 5,
   "outputs": [],
   "source": [
    "# Выбираем константы для длины входной последовательности и для длины предсказания\n",
    "seq_len = 10\n",
    "predict_horizon = 7"
   ],
   "metadata": {
    "collapsed": false
   }
  },
  {
   "cell_type": "markdown",
   "source": [
    "### Масштабирование данных и стабилизация дисперсии"
   ],
   "metadata": {
    "collapsed": false
   }
  },
  {
   "cell_type": "code",
   "execution_count": 6,
   "outputs": [
    {
     "name": "stdout",
     "output_type": "stream",
     "text": [
      "Std:  836.4328884415709 Mean:  2078.0138920969944\n",
      "Std:  1 Mean:  0\n"
     ]
    }
   ],
   "source": [
    "# масштабирование\n",
    "from src.data_transform import data_scaling\n",
    "print('Std: ', target.std(), 'Mean: ', target.mean())\n",
    "target_scaled = data_scaling(target)\n",
    "print('Std: ', round(target_scaled.std()), 'Mean: ', round(target_scaled.mean()))"
   ],
   "metadata": {
    "collapsed": false
   }
  },
  {
   "cell_type": "code",
   "execution_count": 7,
   "outputs": [
    {
     "name": "stdout",
     "output_type": "stream",
     "text": [
      "Lambda value used for Transformation: -0.43668043973665444\n",
      "ADF Statistic: -1.551629\n",
      "p-value: 0.507835\n",
      "Critical Values:\n",
      "\t1%: -3.449\n",
      "\t5%: -2.870\n",
      "\t10%: -2.571\n",
      "The TS is NOT stationary\n"
     ]
    },
    {
     "data": {
      "text/plain": "<Figure size 1000x500 with 2 Axes>",
      "image/png": "[encoded data removed]"
     },
     "metadata": {},
     "output_type": "display_data"
    }
   ],
   "source": [
    "# Стабилизация дисперсии ни к чему не привела\n",
    "from src.statistic import check_stationarity\n",
    "import numpy as np\n",
    "from scipy import stats\n",
    "import seaborn as sns\n",
    "import matplotlib.pyplot as plt\n",
    "import warnings\n",
    "warnings.filterwarnings('ignore')\n",
    "\n",
    "fitted_data, fitted_lambda = stats.boxcox(target)\n",
    "fig, ax = plt.subplots(1, 2)\n",
    "\n",
    "sns.distplot(target, hist = False, kde = True,\n",
    "            kde_kws = {'shade': True, 'linewidth': 2},\n",
    "            label = \"Non-Normal\", color =\"green\", ax = ax[0])\n",
    "\n",
    "sns.distplot(fitted_data, hist = False, kde = True,\n",
    "            kde_kws = {'shade': True, 'linewidth': 2},\n",
    "            label = \"Normal\", color =\"green\", ax = ax[1])\n",
    "\n",
    "plt.legend(loc = \"upper right\")\n",
    "fig.set_figheight(5)\n",
    "fig.set_figwidth(10)\n",
    "\n",
    "print(f\"Lambda value used for Transformation: {fitted_lambda}\")\n",
    "check_stationarity(fitted_data)"
   ],
   "metadata": {
    "collapsed": false
   }
  },
  {
   "cell_type": "markdown",
   "source": [
    "### Создание последовательностей"
   ],
   "metadata": {
    "collapsed": false
   }
  },
  {
   "cell_type": "markdown",
   "source": [
    "### размер выбирается по формуле описанной в этой статье https://arxiv.org/abs/1710.03222"
   ],
   "metadata": {
    "collapsed": false
   }
  },
  {
   "cell_type": "markdown",
   "source": [
    "![](sequence.png)\n",
    "![](train_test_split.png)"
   ],
   "metadata": {
    "collapsed": false
   }
  },
  {
   "cell_type": "code",
   "execution_count": 11,
   "outputs": [],
   "source": [
    "from src.data_transform import make_sequence_from_time_series, train_test_split\n",
    "\n",
    "# разбиваем на трейн и тест ряд\n",
    "train_data = torch.tensor(target.iloc[: target.shape[0] - seq_len - predict_horizon].values).float()\n",
    "test_data = torch.tensor(target.iloc[target.shape[0] - seq_len - predict_horizon: ].values).float()\n",
    "\n",
    "# создаем из этих рядов последовательности\n",
    "list_of_train_x_seq, list_of_train_y_seq = make_sequence_from_time_series(train_data, seq_len, predict_horizon)\n",
    "x_test, y_test = make_sequence_from_time_series(test_data, seq_len, predict_horizon)\n",
    "\n",
    "# разбиваем последовательность обучения на две части, обучение и валидация\n",
    "x_train, y_train, x_val, y_val = train_test_split(list_of_train_x_seq, list_of_train_y_seq, train_size=0.8)\n",
    "\n",
    "# создаем из этого датасеты\n",
    "train_dataset = torch.utils.data.TensorDataset(x_train, y_train)\n",
    "val_dataset = torch.utils.data.TensorDataset(x_val, y_val)\n",
    "\n",
    "# запихиваем все это в даталоадеры\n",
    "train_loader = torch.utils.data.DataLoader(train_dataset, batch_size=15)\n",
    "val_loader = torch.utils.data.DataLoader(val_dataset, batch_size=15)"
   ],
   "metadata": {
    "collapsed": false
   }
  },
  {
   "cell_type": "markdown",
   "source": [
    "# Создадим ЛСТМ нейронку"
   ],
   "metadata": {
    "collapsed": false
   }
  },
  {
   "cell_type": "code",
   "execution_count": 38,
   "outputs": [],
   "source": [
    "class OwnLSTM(nn.Module):\n",
    "    def __init__(self, input_dim, hidden_dim, output_dim):\n",
    "        super(OwnLSTM, self).__init__()\n",
    "        self.hidden_dim = hidden_dim\n",
    "        self.lstm = nn.LSTM(input_size=input_dim, hidden_size=hidden_dim, num_layers=5, batch_first=True)\n",
    "        self.linear = nn.Linear(hidden_dim, output_dim)\n",
    "        self.fully_con = nn.Sequential(\n",
    "            nn.Linear(in_features=hidden_dim, out_features=32),\n",
    "            nn.ReLU(),\n",
    "            nn.Dropout(0.3),\n",
    "            nn.Linear(in_features=32, out_features=16),\n",
    "            nn.ReLU(),\n",
    "            nn.Linear(in_features=16, out_features=output_dim)\n",
    "        )\n",
    "\n",
    "    def forward(self, time_series):\n",
    "        print(time_series.shape)\n",
    "        lstm_out, _ = self.lstm(time_series.view(time_series.shape[0], time_series.shape[1], 1).float())\n",
    "        y_pred = self.linear(lstm_out.view(len(time_series), -1).float())\n",
    "        # y_pred = self.fully_con(lstm_out.view(len(time_series), -1).float())\n",
    "        return y_pred[-7]"
   ],
   "metadata": {
    "collapsed": false
   }
  },
  {
   "cell_type": "code",
   "execution_count": 39,
   "outputs": [],
   "source": [
    "from tqdm.notebook import tqdm\n",
    "\n",
    "def train_lstm(n_epochs, model, loss_fn, optimizer, train_loader, val_loader, device):\n",
    "    train_losses = []\n",
    "    val_losses = []\n",
    "    for epoch in tqdm(range(n_epochs)):\n",
    "        model.train()\n",
    "        train_losses_per_epoch = []\n",
    "        for X_batch, y_real in train_loader:\n",
    "            optimizer.zero_grad()\n",
    "\n",
    "            y_pred = model(X_batch.to(device).float())\n",
    "\n",
    "            loss = loss_fn(y_pred, y_real.to(device))\n",
    "            loss.backward()\n",
    "            optimizer.step()\n",
    "\n",
    "            train_losses_per_epoch.append(loss.item())\n",
    "        train_losses.append(np.mean(train_losses_per_epoch))\n",
    "\n",
    "\n",
    "        model.eval()\n",
    "        val_losses_per_epoch = []\n",
    "        with torch.no_grad():\n",
    "            for X_batch_val, y_real_val in val_loader:\n",
    "              y_pred_val = model(X_batch_val.to(device).float())\n",
    "              loss = loss_fn(y_pred_val, y_real_val.to(device).float())\n",
    "              val_losses_per_epoch.append(loss.item())\n",
    "\n",
    "        val_losses.append(np.mean(val_losses_per_epoch))\n",
    "\n",
    "    return train_losses, val_losses"
   ],
   "metadata": {
    "collapsed": false
   }
  },
  {
   "cell_type": "code",
   "execution_count": 40,
   "outputs": [],
   "source": [
    "input_dim = 1\n",
    "hidden_dim = 64\n",
    "output_dim = 7"
   ],
   "metadata": {
    "collapsed": false
   }
  },
  {
   "cell_type": "code",
   "execution_count": 41,
   "outputs": [
    {
     "name": "stdout",
     "output_type": "stream",
     "text": [
      "OwnLSTM(\n",
      "  (lstm): LSTM(1, 64, num_layers=5, batch_first=True)\n",
      "  (linear): Linear(in_features=64, out_features=7, bias=True)\n",
      "  (fully_con): Sequential(\n",
      "    (0): Linear(in_features=64, out_features=32, bias=True)\n",
      "    (1): ReLU()\n",
      "    (2): Dropout(p=0.3, inplace=False)\n",
      "    (3): Linear(in_features=32, out_features=16, bias=True)\n",
      "    (4): ReLU()\n",
      "    (5): Linear(in_features=16, out_features=7, bias=True)\n",
      "  )\n",
      ")\n"
     ]
    }
   ],
   "source": [
    "device = 'mps' if torch.backends.mps.is_available() else 'cpu'\n",
    "\n",
    "model = OwnLSTM(input_dim, hidden_dim, output_dim).to(device)\n",
    "criterion = nn.L1Loss()\n",
    "optimizer = torch.optim.Adam(model.parameters(), lr=0.001)\n",
    "num_epochs = 20\n",
    "print(model)"
   ],
   "metadata": {
    "collapsed": false
   }
  },
  {
   "cell_type": "code",
   "execution_count": null,
   "outputs": [
    {
     "data": {
      "text/plain": "  0%|          | 0/20 [00:00<?, ?it/s]",
      "application/vnd.jupyter.widget-view+json": {
       "version_major": 2,
       "version_minor": 0,
       "model_id": "74e6defdbc4c4a78b2a055461b5625f0"
      }
     },
     "metadata": {},
     "output_type": "display_data"
    },
    {
     "name": "stdout",
     "output_type": "stream",
     "text": [
      "torch.Size([15, 10])\n"
     ]
    }
   ],
   "source": [
    "train_loss, val_loss = train_lstm(num_epochs, model, criterion, optimizer, train_loader, val_loader, device)"
   ],
   "metadata": {
    "collapsed": false,
    "pycharm": {
     "is_executing": true
    }
   }
  },
  {
   "cell_type": "code",
   "execution_count": 17,
   "outputs": [
    {
     "ename": "NameError",
     "evalue": "name 'train_loss' is not defined",
     "output_type": "error",
     "traceback": [
      "\u001B[0;31m---------------------------------------------------------------------------\u001B[0m",
      "\u001B[0;31mNameError\u001B[0m                                 Traceback (most recent call last)",
      "Cell \u001B[0;32mIn [17], line 2\u001B[0m\n\u001B[1;32m      1\u001B[0m \u001B[38;5;28;01mfrom\u001B[39;00m \u001B[38;5;21;01msrc\u001B[39;00m\u001B[38;5;21;01m.\u001B[39;00m\u001B[38;5;21;01mdrawing\u001B[39;00m \u001B[38;5;28;01mimport\u001B[39;00m show_loss_after_train\n\u001B[0;32m----> 2\u001B[0m show_loss_after_train(\u001B[43mtrain_loss\u001B[49m, val_loss)\n",
      "\u001B[0;31mNameError\u001B[0m: name 'train_loss' is not defined"
     ]
    }
   ],
   "source": [
    "from src.drawing import show_loss_after_train\n",
    "show_loss_after_train(train_loss, val_loss)"
   ],
   "metadata": {
    "collapsed": false
   }
  },
  {
   "cell_type": "code",
   "execution_count": null,
   "outputs": [],
   "source": [],
   "metadata": {
    "collapsed": false
   }
  }
 ],
 "metadata": {
  "kernelspec": {
   "display_name": "Python 3",
   "language": "python",
   "name": "python3"
  },
  "language_info": {
   "codemirror_mode": {
    "name": "ipython",
    "version": 2
   },
   "file_extension": ".py",
   "mimetype": "text/x-python",
   "name": "python",
   "nbconvert_exporter": "python",
   "pygments_lexer": "ipython2",
   "version": "2.7.6"
  }
 },
 "nbformat": 4,
 "nbformat_minor": 0
}
