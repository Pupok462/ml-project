{
 "cells": [
  {
   "cell_type": "code",
   "execution_count": 7,
   "metadata": {
    "collapsed": true,
    "ExecuteTime": {
     "end_time": "2023-06-12T14:33:34.564538100Z",
     "start_time": "2023-06-12T14:33:34.556531100Z"
    }
   },
   "outputs": [
    {
     "data": {
      "text/plain": "         Date  target_value\n0  2021-12-20   3928.770142\n1  2021-12-21   3979.361939\n2  2021-12-22   4000.397705\n3  2021-12-23   4044.988647\n4  2021-12-24   4079.664062",
      "text/html": "<div>\n<style scoped>\n    .dataframe tbody tr th:only-of-type {\n        vertical-align: middle;\n    }\n\n    .dataframe tbody tr th {\n        vertical-align: top;\n    }\n\n    .dataframe thead th {\n        text-align: right;\n    }\n</style>\n<table border=\"1\" class=\"dataframe\">\n  <thead>\n    <tr style=\"text-align: right;\">\n      <th></th>\n      <th>Date</th>\n      <th>target_value</th>\n    </tr>\n  </thead>\n  <tbody>\n    <tr>\n      <th>0</th>\n      <td>2021-12-20</td>\n      <td>3928.770142</td>\n    </tr>\n    <tr>\n      <th>1</th>\n      <td>2021-12-21</td>\n      <td>3979.361939</td>\n    </tr>\n    <tr>\n      <th>2</th>\n      <td>2021-12-22</td>\n      <td>4000.397705</td>\n    </tr>\n    <tr>\n      <th>3</th>\n      <td>2021-12-23</td>\n      <td>4044.988647</td>\n    </tr>\n    <tr>\n      <th>4</th>\n      <td>2021-12-24</td>\n      <td>4079.664062</td>\n    </tr>\n  </tbody>\n</table>\n</div>"
     },
     "execution_count": 7,
     "metadata": {},
     "output_type": "execute_result"
    }
   ],
   "source": [
    "import pandas as pd\n",
    "\n",
    "ts = pd.read_csv('train.csv')\n",
    "ts.head()"
   ]
  },
  {
   "cell_type": "code",
   "execution_count": 8,
   "outputs": [],
   "source": [
    "# tf = pd.read_csv('btc_usd_2015_2023.csv')\n",
    "# tf['target_value'] = (tf.High + tf.Low) /2\n",
    "# tf = tf.drop(columns=['Open', 'High', 'Low', 'Close', 'Adj Close'])\n",
    "# tf.to_csv('train_btc.csv')\n",
    "# tf.head()"
   ],
   "metadata": {
    "collapsed": false,
    "ExecuteTime": {
     "end_time": "2023-06-12T14:33:34.586290500Z",
     "start_time": "2023-06-12T14:33:34.564538100Z"
    }
   }
  },
  {
   "cell_type": "code",
   "execution_count": 18,
   "outputs": [
    {
     "name": "stdout",
     "output_type": "stream",
     "text": [
      "<class 'pandas.core.frame.DataFrame'>\n",
      "Index: 1228 entries, 1827 to 3054\n",
      "Data columns (total 3 columns):\n",
      " #   Column        Non-Null Count  Dtype  \n",
      "---  ------        --------------  -----  \n",
      " 0   Date          1228 non-null   object \n",
      " 1   Volume        1228 non-null   int64  \n",
      " 2   target_value  1228 non-null   float64\n",
      "dtypes: float64(1), int64(1), object(1)\n",
      "memory usage: 38.4+ KB\n"
     ]
    }
   ],
   "source": [
    "tf = pd.read_csv(\"btc_usd_2015_2023.csv\")\n",
    "tf = tf[tf.Date > '2020-01-01']\n",
    "tf['target_value'] = (tf.High + tf.Low) /2\n",
    "\n",
    "\n",
    "df = pd.DataFrame()\n",
    "df['Date'] = tf['Date']\n",
    "df['Volume'] = tf['Volume']\n",
    "df['target_value'] = tf['target_value']\n",
    "\n",
    "\n",
    "df.to_csv('train_btc.csv', index=False)\n",
    "df.info()"
   ],
   "metadata": {
    "collapsed": false,
    "ExecuteTime": {
     "end_time": "2023-06-12T14:41:06.166285600Z",
     "start_time": "2023-06-12T14:41:06.138259700Z"
    }
   }
  },
  {
   "cell_type": "code",
   "execution_count": null,
   "outputs": [],
   "source": [],
   "metadata": {
    "collapsed": false
   }
  }
 ],
 "metadata": {
  "kernelspec": {
   "display_name": "Python 3",
   "language": "python",
   "name": "python3"
  },
  "language_info": {
   "codemirror_mode": {
    "name": "ipython",
    "version": 2
   },
   "file_extension": ".py",
   "mimetype": "text/x-python",
   "name": "python",
   "nbconvert_exporter": "python",
   "pygments_lexer": "ipython2",
   "version": "2.7.6"
  }
 },
 "nbformat": 4,
 "nbformat_minor": 0
}
